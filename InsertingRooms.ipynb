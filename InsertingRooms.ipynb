{
 "cells": [
  {
   "cell_type": "code",
   "execution_count": 1,
   "metadata": {},
   "outputs": [],
   "source": [
    "import sqlite3 as sql"
   ]
  },
  {
   "cell_type": "code",
   "execution_count": 2,
   "metadata": {},
   "outputs": [],
   "source": [
    "conn = sql.connect('database/HotelDB.db')"
   ]
  },
  {
   "cell_type": "code",
   "execution_count": 3,
   "metadata": {},
   "outputs": [],
   "source": [
    "cur = conn.cursor()"
   ]
  },
  {
   "cell_type": "code",
   "execution_count": 40,
   "metadata": {},
   "outputs": [],
   "source": [
    "cur.execute('SELECT * from rooms')\n",
    "rooms_avail = cur.fetchall()"
   ]
  },
  {
   "cell_type": "code",
   "execution_count": 42,
   "metadata": {},
   "outputs": [
    {
     "data": {
      "text/plain": [
       "350"
      ]
     },
     "execution_count": 42,
     "metadata": {},
     "output_type": "execute_result"
    }
   ],
   "source": [
    "len(rooms_avail)"
   ]
  },
  {
   "cell_type": "markdown",
   "metadata": {},
   "source": [
    "#### Inserting 200 single rooms (One bed, 2 person capacity)"
   ]
  },
  {
   "cell_type": "code",
   "execution_count": 21,
   "metadata": {},
   "outputs": [],
   "source": [
    "for i in range (1, 201):\n",
    "    basic_room = (i, 'Single', 2)\n",
    "    cur.execute('INSERT INTO rooms VALUES {}'.format(basic_room))"
   ]
  },
  {
   "cell_type": "code",
   "execution_count": 22,
   "metadata": {},
   "outputs": [],
   "source": [
    "conn.commit()"
   ]
  },
  {
   "cell_type": "markdown",
   "metadata": {},
   "source": [
    "#### Inserting 100 double rooms (Two beds, 4 person capacity)"
   ]
  },
  {
   "cell_type": "code",
   "execution_count": 23,
   "metadata": {},
   "outputs": [],
   "source": [
    "for i in range (201, 301):\n",
    "    double_room = (i, 'Double', 4)\n",
    "    cur.execute('INSERT INTO rooms VALUES {}'.format(double_room))"
   ]
  },
  {
   "cell_type": "code",
   "execution_count": 24,
   "metadata": {},
   "outputs": [],
   "source": [
    "conn.commit()"
   ]
  },
  {
   "cell_type": "markdown",
   "metadata": {},
   "source": [
    "#### Inserting 50 double rooms (Three beds, 6 person capacity)"
   ]
  },
  {
   "cell_type": "code",
   "execution_count": 5,
   "metadata": {},
   "outputs": [],
   "source": [
    "for i in range (301, 351):\n",
    "    deluxe_room = (i, 'Deluxe', 6)\n",
    "    cur.execute('INSERT INTO rooms VALUES {}'.format(deluxe_room))"
   ]
  },
  {
   "cell_type": "code",
   "execution_count": 6,
   "metadata": {},
   "outputs": [],
   "source": [
    "conn.commit()"
   ]
  },
  {
   "cell_type": "code",
   "execution_count": 11,
   "metadata": {},
   "outputs": [
    {
     "name": "stdout",
     "output_type": "stream",
     "text": [
      "(1, 'Single', 2)\n",
      "(2, 'Single', 2)\n",
      "(3, 'Single', 2)\n",
      "(4, 'Single', 2)\n",
      "(5, 'Single', 2)\n",
      "(6, 'Single', 2)\n",
      "(7, 'Single', 2)\n",
      "(8, 'Single', 2)\n",
      "(9, 'Single', 2)\n",
      "(10, 'Single', 2)\n",
      "(11, 'Single', 2)\n",
      "(12, 'Single', 2)\n",
      "(13, 'Single', 2)\n",
      "(14, 'Single', 2)\n",
      "(15, 'Single', 2)\n",
      "(16, 'Single', 2)\n",
      "(17, 'Single', 2)\n",
      "(18, 'Single', 2)\n",
      "(19, 'Single', 2)\n",
      "(20, 'Single', 2)\n",
      "(21, 'Single', 2)\n",
      "(22, 'Single', 2)\n",
      "(23, 'Single', 2)\n",
      "(24, 'Single', 2)\n",
      "(25, 'Single', 2)\n",
      "(26, 'Single', 2)\n",
      "(27, 'Single', 2)\n",
      "(28, 'Single', 2)\n",
      "(29, 'Single', 2)\n",
      "(30, 'Single', 2)\n",
      "(31, 'Single', 2)\n",
      "(32, 'Single', 2)\n",
      "(33, 'Single', 2)\n",
      "(34, 'Single', 2)\n",
      "(35, 'Single', 2)\n",
      "(36, 'Single', 2)\n",
      "(37, 'Single', 2)\n",
      "(38, 'Single', 2)\n",
      "(39, 'Single', 2)\n",
      "(40, 'Single', 2)\n",
      "(41, 'Single', 2)\n",
      "(42, 'Single', 2)\n",
      "(43, 'Single', 2)\n",
      "(44, 'Single', 2)\n",
      "(45, 'Single', 2)\n",
      "(46, 'Single', 2)\n",
      "(47, 'Single', 2)\n",
      "(48, 'Single', 2)\n",
      "(49, 'Single', 2)\n",
      "(50, 'Single', 2)\n",
      "(51, 'Single', 2)\n",
      "(52, 'Single', 2)\n",
      "(53, 'Single', 2)\n",
      "(54, 'Single', 2)\n",
      "(55, 'Single', 2)\n",
      "(56, 'Single', 2)\n",
      "(57, 'Single', 2)\n",
      "(58, 'Single', 2)\n",
      "(59, 'Single', 2)\n",
      "(60, 'Single', 2)\n",
      "(61, 'Single', 2)\n",
      "(62, 'Single', 2)\n",
      "(63, 'Single', 2)\n",
      "(64, 'Single', 2)\n",
      "(65, 'Single', 2)\n",
      "(66, 'Single', 2)\n",
      "(67, 'Single', 2)\n",
      "(68, 'Single', 2)\n",
      "(69, 'Single', 2)\n",
      "(70, 'Single', 2)\n",
      "(71, 'Single', 2)\n",
      "(72, 'Single', 2)\n",
      "(73, 'Single', 2)\n",
      "(74, 'Single', 2)\n",
      "(75, 'Single', 2)\n",
      "(76, 'Single', 2)\n",
      "(77, 'Single', 2)\n",
      "(78, 'Single', 2)\n",
      "(79, 'Single', 2)\n",
      "(80, 'Single', 2)\n",
      "(81, 'Single', 2)\n",
      "(82, 'Single', 2)\n",
      "(83, 'Single', 2)\n",
      "(84, 'Single', 2)\n",
      "(85, 'Single', 2)\n",
      "(86, 'Single', 2)\n",
      "(87, 'Single', 2)\n",
      "(88, 'Single', 2)\n",
      "(89, 'Single', 2)\n",
      "(90, 'Single', 2)\n",
      "(91, 'Single', 2)\n",
      "(92, 'Single', 2)\n",
      "(93, 'Single', 2)\n",
      "(94, 'Single', 2)\n",
      "(95, 'Single', 2)\n",
      "(96, 'Single', 2)\n",
      "(97, 'Single', 2)\n",
      "(98, 'Single', 2)\n",
      "(99, 'Single', 2)\n",
      "(100, 'Single', 2)\n",
      "(101, 'Single', 2)\n",
      "(102, 'Single', 2)\n",
      "(103, 'Single', 2)\n",
      "(104, 'Single', 2)\n",
      "(105, 'Single', 2)\n",
      "(106, 'Single', 2)\n",
      "(107, 'Single', 2)\n",
      "(108, 'Single', 2)\n",
      "(109, 'Single', 2)\n",
      "(110, 'Single', 2)\n",
      "(111, 'Single', 2)\n",
      "(112, 'Single', 2)\n",
      "(113, 'Single', 2)\n",
      "(114, 'Single', 2)\n",
      "(115, 'Single', 2)\n",
      "(116, 'Single', 2)\n",
      "(117, 'Single', 2)\n",
      "(118, 'Single', 2)\n",
      "(119, 'Single', 2)\n",
      "(120, 'Single', 2)\n",
      "(121, 'Single', 2)\n",
      "(122, 'Single', 2)\n",
      "(123, 'Single', 2)\n",
      "(124, 'Single', 2)\n",
      "(125, 'Single', 2)\n",
      "(126, 'Single', 2)\n",
      "(127, 'Single', 2)\n",
      "(128, 'Single', 2)\n",
      "(129, 'Single', 2)\n",
      "(130, 'Single', 2)\n",
      "(131, 'Single', 2)\n",
      "(132, 'Single', 2)\n",
      "(133, 'Single', 2)\n",
      "(134, 'Single', 2)\n",
      "(135, 'Single', 2)\n",
      "(136, 'Single', 2)\n",
      "(137, 'Single', 2)\n",
      "(138, 'Single', 2)\n",
      "(139, 'Single', 2)\n",
      "(140, 'Single', 2)\n",
      "(141, 'Single', 2)\n",
      "(142, 'Single', 2)\n",
      "(143, 'Single', 2)\n",
      "(144, 'Single', 2)\n",
      "(145, 'Single', 2)\n",
      "(146, 'Single', 2)\n",
      "(147, 'Single', 2)\n",
      "(148, 'Single', 2)\n",
      "(149, 'Single', 2)\n",
      "(150, 'Single', 2)\n",
      "(151, 'Single', 2)\n",
      "(152, 'Single', 2)\n",
      "(153, 'Single', 2)\n",
      "(154, 'Single', 2)\n",
      "(155, 'Single', 2)\n",
      "(156, 'Single', 2)\n",
      "(157, 'Single', 2)\n",
      "(158, 'Single', 2)\n",
      "(159, 'Single', 2)\n",
      "(160, 'Single', 2)\n",
      "(161, 'Single', 2)\n",
      "(162, 'Single', 2)\n",
      "(163, 'Single', 2)\n",
      "(164, 'Single', 2)\n",
      "(165, 'Single', 2)\n",
      "(166, 'Single', 2)\n",
      "(167, 'Single', 2)\n",
      "(168, 'Single', 2)\n",
      "(169, 'Single', 2)\n",
      "(170, 'Single', 2)\n",
      "(171, 'Single', 2)\n",
      "(172, 'Single', 2)\n",
      "(173, 'Single', 2)\n",
      "(174, 'Single', 2)\n",
      "(175, 'Single', 2)\n",
      "(176, 'Single', 2)\n",
      "(177, 'Single', 2)\n",
      "(178, 'Single', 2)\n",
      "(179, 'Single', 2)\n",
      "(180, 'Single', 2)\n",
      "(181, 'Single', 2)\n",
      "(182, 'Single', 2)\n",
      "(183, 'Single', 2)\n",
      "(184, 'Single', 2)\n",
      "(185, 'Single', 2)\n",
      "(186, 'Single', 2)\n",
      "(187, 'Single', 2)\n",
      "(188, 'Single', 2)\n",
      "(189, 'Single', 2)\n",
      "(190, 'Single', 2)\n",
      "(191, 'Single', 2)\n",
      "(192, 'Single', 2)\n",
      "(193, 'Single', 2)\n",
      "(194, 'Single', 2)\n",
      "(195, 'Single', 2)\n",
      "(196, 'Single', 2)\n",
      "(197, 'Single', 2)\n",
      "(198, 'Single', 2)\n",
      "(199, 'Single', 2)\n",
      "(200, 'Single', 2)\n",
      "(201, 'Double', 4)\n",
      "(202, 'Double', 4)\n",
      "(203, 'Double', 4)\n",
      "(204, 'Double', 4)\n",
      "(205, 'Double', 4)\n",
      "(206, 'Double', 4)\n",
      "(207, 'Double', 4)\n",
      "(208, 'Double', 4)\n",
      "(209, 'Double', 4)\n",
      "(210, 'Double', 4)\n",
      "(211, 'Double', 4)\n",
      "(212, 'Double', 4)\n",
      "(213, 'Double', 4)\n",
      "(214, 'Double', 4)\n",
      "(215, 'Double', 4)\n",
      "(216, 'Double', 4)\n",
      "(217, 'Double', 4)\n",
      "(218, 'Double', 4)\n",
      "(219, 'Double', 4)\n",
      "(220, 'Double', 4)\n",
      "(221, 'Double', 4)\n",
      "(222, 'Double', 4)\n",
      "(223, 'Double', 4)\n",
      "(224, 'Double', 4)\n",
      "(225, 'Double', 4)\n",
      "(226, 'Double', 4)\n",
      "(227, 'Double', 4)\n",
      "(228, 'Double', 4)\n",
      "(229, 'Double', 4)\n",
      "(230, 'Double', 4)\n",
      "(231, 'Double', 4)\n",
      "(232, 'Double', 4)\n",
      "(233, 'Double', 4)\n",
      "(234, 'Double', 4)\n",
      "(235, 'Double', 4)\n",
      "(236, 'Double', 4)\n",
      "(237, 'Double', 4)\n",
      "(238, 'Double', 4)\n",
      "(239, 'Double', 4)\n",
      "(240, 'Double', 4)\n",
      "(241, 'Double', 4)\n",
      "(242, 'Double', 4)\n",
      "(243, 'Double', 4)\n",
      "(244, 'Double', 4)\n",
      "(245, 'Double', 4)\n",
      "(246, 'Double', 4)\n",
      "(247, 'Double', 4)\n",
      "(248, 'Double', 4)\n",
      "(249, 'Double', 4)\n",
      "(250, 'Double', 4)\n",
      "(251, 'Double', 4)\n",
      "(252, 'Double', 4)\n",
      "(253, 'Double', 4)\n",
      "(254, 'Double', 4)\n",
      "(255, 'Double', 4)\n",
      "(256, 'Double', 4)\n",
      "(257, 'Double', 4)\n",
      "(258, 'Double', 4)\n",
      "(259, 'Double', 4)\n",
      "(260, 'Double', 4)\n",
      "(261, 'Double', 4)\n",
      "(262, 'Double', 4)\n",
      "(263, 'Double', 4)\n",
      "(264, 'Double', 4)\n",
      "(265, 'Double', 4)\n",
      "(266, 'Double', 4)\n",
      "(267, 'Double', 4)\n",
      "(268, 'Double', 4)\n",
      "(269, 'Double', 4)\n",
      "(270, 'Double', 4)\n",
      "(271, 'Double', 4)\n",
      "(272, 'Double', 4)\n",
      "(273, 'Double', 4)\n",
      "(274, 'Double', 4)\n",
      "(275, 'Double', 4)\n",
      "(276, 'Double', 4)\n",
      "(277, 'Double', 4)\n",
      "(278, 'Double', 4)\n",
      "(279, 'Double', 4)\n",
      "(280, 'Double', 4)\n",
      "(281, 'Double', 4)\n",
      "(282, 'Double', 4)\n",
      "(283, 'Double', 4)\n",
      "(284, 'Double', 4)\n",
      "(285, 'Double', 4)\n",
      "(286, 'Double', 4)\n",
      "(287, 'Double', 4)\n",
      "(288, 'Double', 4)\n",
      "(289, 'Double', 4)\n",
      "(290, 'Double', 4)\n",
      "(291, 'Double', 4)\n",
      "(292, 'Double', 4)\n",
      "(293, 'Double', 4)\n",
      "(294, 'Double', 4)\n",
      "(295, 'Double', 4)\n",
      "(296, 'Double', 4)\n",
      "(297, 'Double', 4)\n",
      "(298, 'Double', 4)\n",
      "(299, 'Double', 4)\n",
      "(300, 'Double', 4)\n",
      "(301, 'Deluxe', 6)\n",
      "(302, 'Deluxe', 6)\n",
      "(303, 'Deluxe', 6)\n",
      "(304, 'Deluxe', 6)\n",
      "(305, 'Deluxe', 6)\n",
      "(306, 'Deluxe', 6)\n",
      "(307, 'Deluxe', 6)\n",
      "(308, 'Deluxe', 6)\n",
      "(309, 'Deluxe', 6)\n",
      "(310, 'Deluxe', 6)\n",
      "(311, 'Deluxe', 6)\n",
      "(312, 'Deluxe', 6)\n",
      "(313, 'Deluxe', 6)\n",
      "(314, 'Deluxe', 6)\n",
      "(315, 'Deluxe', 6)\n",
      "(316, 'Deluxe', 6)\n",
      "(317, 'Deluxe', 6)\n",
      "(318, 'Deluxe', 6)\n",
      "(319, 'Deluxe', 6)\n",
      "(320, 'Deluxe', 6)\n",
      "(321, 'Deluxe', 6)\n",
      "(322, 'Deluxe', 6)\n",
      "(323, 'Deluxe', 6)\n",
      "(324, 'Deluxe', 6)\n",
      "(325, 'Deluxe', 6)\n",
      "(326, 'Deluxe', 6)\n",
      "(327, 'Deluxe', 6)\n",
      "(328, 'Deluxe', 6)\n",
      "(329, 'Deluxe', 6)\n",
      "(330, 'Deluxe', 6)\n",
      "(331, 'Deluxe', 6)\n",
      "(332, 'Deluxe', 6)\n",
      "(333, 'Deluxe', 6)\n",
      "(334, 'Deluxe', 6)\n",
      "(335, 'Deluxe', 6)\n",
      "(336, 'Deluxe', 6)\n",
      "(337, 'Deluxe', 6)\n",
      "(338, 'Deluxe', 6)\n",
      "(339, 'Deluxe', 6)\n",
      "(340, 'Deluxe', 6)\n",
      "(341, 'Deluxe', 6)\n",
      "(342, 'Deluxe', 6)\n",
      "(343, 'Deluxe', 6)\n",
      "(344, 'Deluxe', 6)\n",
      "(345, 'Deluxe', 6)\n",
      "(346, 'Deluxe', 6)\n",
      "(347, 'Deluxe', 6)\n",
      "(348, 'Deluxe', 6)\n",
      "(349, 'Deluxe', 6)\n",
      "(350, 'Deluxe', 6)\n"
     ]
    }
   ],
   "source": [
    "i = 0\n",
    "for row in cur.execute('SELECT * from rooms'):\n",
    "    print(row)"
   ]
  },
  {
   "cell_type": "markdown",
   "metadata": {},
   "source": [
    "#### Reservations"
   ]
  },
  {
   "cell_type": "code",
   "execution_count": 29,
   "metadata": {},
   "outputs": [
    {
     "name": "stdout",
     "output_type": "stream",
     "text": [
      "('Daniel', 'Silva', 'FALSE', 'FALSE', 'FALSE', 4842642995, 'dan@yahoo.com', 9142019, 9172019, 1)\n"
     ]
    }
   ],
   "source": [
    "for row in (cur.execute('select * from reservations')):\n",
    "    print(row)"
   ]
  },
  {
   "cell_type": "markdown",
   "metadata": {},
   "source": [
    "#### Availability Search Query"
   ]
  },
  {
   "cell_type": "code",
   "execution_count": 26,
   "metadata": {},
   "outputs": [
    {
     "name": "stdout",
     "output_type": "stream",
     "text": [
      "Singles: 199 Doubles: 100 Deluxe: 50\n"
     ]
    }
   ],
   "source": [
    "single_count = 0\n",
    "double_count = 0\n",
    "deluxe_count = 0\n",
    "num_guests = 1\n",
    "date_in = 9152019\n",
    "date_out = 9162019\n",
    "\n",
    "query = ('select * from rooms where '\n",
    "             '{} <= capacity and not exists '\n",
    "                 '(select 1 from Reservations where '\n",
    "                     'Rooms.Number = Reservations.Room_Num '\n",
    "                         'and' \n",
    "                            '({} between Check_In and Check_Out '\n",
    "                            'or ' \n",
    "                            '{} between Check_In and Check_Out '\n",
    "                            'or '\n",
    "                            'Check_In between {} and {} '\n",
    "                            'or ' \n",
    "                            'Check_Out between {} and {}))'.format(num_guests, date_in, date_out, date_in, date_out, date_in, date_out))\n",
    "           \n",
    "for row in cur.execute(query):\n",
    "    if row[1] == 'Single':\n",
    "        single_count += 1\n",
    "    elif row[1] == 'Double':\n",
    "        double_count += 1\n",
    "    elif row[1] == 'Deluxe':\n",
    "        deluxe_count += 1\n",
    "\n",
    "print('Singles: {} Doubles: {} Deluxe: {}'.format(single_count, double_count, deluxe_count))"
   ]
  },
  {
   "cell_type": "code",
   "execution_count": 7,
   "metadata": {},
   "outputs": [],
   "source": [
    "conn.close()"
   ]
  },
  {
   "cell_type": "code",
   "execution_count": 6,
   "metadata": {},
   "outputs": [
    {
     "data": {
      "text/plain": [
       "<sqlite3.Cursor at 0x7f509c156340>"
      ]
     },
     "execution_count": 6,
     "metadata": {},
     "output_type": "execute_result"
    }
   ],
   "source": [
    "data = ('Test_first', 'test_last', 'TRUE', 'TRUE', 'TRUE', 4847449481, 'TESTemail@yahoo.com', 9262019, 10012019, 45)\n",
    "cur.execute('INSERT INTO reservations VALUES {}'.format(data))"
   ]
  },
  {
   "cell_type": "code",
   "execution_count": 8,
   "metadata": {},
   "outputs": [
    {
     "name": "stdout",
     "output_type": "stream",
     "text": [
      "('Daniel', 'Silva', 'FALSE', 'FALSE', 'FALSE', 4842642995, 'dan@yahoo.com', 9142019, 9172019, 1)\n",
      "('Test_first', 'test_last', 'TRUE', 'TRUE', 'TRUE', 4847449481, 'TESTemail@yahoo.com', 9262019, 10012019, 45)\n"
     ]
    }
   ],
   "source": [
    "cur.execute('SELECT * from reservations')\n",
    "for temp in cur.fetchall():\n",
    "    print(temp)"
   ]
  },
  {
   "cell_type": "code",
   "execution_count": 13,
   "metadata": {},
   "outputs": [
    {
     "name": "stdout",
     "output_type": "stream",
     "text": [
      "('Daniel', 'Silva')\n",
      "('Test_first', 'test_last')\n"
     ]
    }
   ],
   "source": [
    "cur.execute('SELECT \"First Name\", \"Last Name\" from reservations')\n",
    "for temp in cur.fetchall():\n",
    "    print(temp[0:7])"
   ]
  },
  {
   "cell_type": "code",
   "execution_count": null,
   "metadata": {},
   "outputs": [],
   "source": []
  }
 ],
 "metadata": {
  "kernelspec": {
   "display_name": "Python 3",
   "language": "python",
   "name": "python3"
  },
  "language_info": {
   "codemirror_mode": {
    "name": "ipython",
    "version": 3
   },
   "file_extension": ".py",
   "mimetype": "text/x-python",
   "name": "python",
   "nbconvert_exporter": "python",
   "pygments_lexer": "ipython3",
   "version": "3.7.3"
  }
 },
 "nbformat": 4,
 "nbformat_minor": 2
}
